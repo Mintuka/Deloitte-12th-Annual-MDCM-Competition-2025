{
 "cells": [
  {
   "cell_type": "code",
   "execution_count": 118,
   "metadata": {},
   "outputs": [],
   "source": [
    "#Step 1: Load and Preprocess the Data"
   ]
  },
  {
   "cell_type": "code",
   "execution_count": 119,
   "metadata": {},
   "outputs": [],
   "source": [
    "import pandas as pd\n",
    "from sklearn.model_selection import train_test_split\n",
    "from sklearn.linear_model import LogisticRegression\n",
    "from sklearn.metrics import log_loss\n",
    "import statsmodels.formula.api as smf\n",
    "# Load the dataset\n",
    "data = pd.read_csv('NCAA_Tourney_2002_2024.csv')\n",
    "\n",
    "# Exclude 2019 data\n",
    "data = data[data['season'] != 2019]\n",
    "\n",
    "data['team1_win'] = (data['team1_score'] > data['team2_score']).astype(int)\n",
    "data['seed_diff'] = data['team1_seed'] - data['team2_seed']\n",
    "data['exp_win1'] = (data['team1_adjoe']**11.5)/ ((data['team1_adjde']**11.5)+(data['team1_adjoe']**11.5))\n",
    "data['exp_win2'] = (data['team2_adjoe']**11.5)/ ((data['team2_adjde']**11.5)+(data['team2_adjoe']**11.5))\n"
   ]
  },
  {
   "cell_type": "code",
   "execution_count": 120,
   "metadata": {},
   "outputs": [],
   "source": [
    "# Converts expected win percentage into log odds\n",
    "\n",
    "data['team1_log5'] = (data['exp_win1'] - (data['exp_win1']*data['exp_win2']))/ (data['exp_win1']+data['exp_win2']-(2*data['exp_win1']*data['exp_win2']))\n",
    "data.dropna(subset=['team1_log5'], inplace=True)"
   ]
  },
  {
   "cell_type": "code",
   "execution_count": 121,
   "metadata": {},
   "outputs": [],
   "source": [
    "\n",
    "# Define features and target\n",
    "features = ['game_id','season','team1_win','exp_win1','exp_win2','team2_score', 'team1_score','team1_log5','team1_id','team2_id','seed_diff']\n",
    "\n",
    "data_1 = data.sample(frac=.5, random_state=15)[features]\n",
    "data_2 = data[~data.index.isin(data_1.index)][features].reset_index(drop=True)\n",
    "data_1 = data_1.reset_index(drop=True)"
   ]
  },
  {
   "cell_type": "code",
   "execution_count": 132,
   "metadata": {},
   "outputs": [],
   "source": [
    "data_2['team1_win'] = 0\n",
    "# data_2['diff_dist'] = data_2['diff_dist']*-1\n",
    "data_2['team1_log5'] = 1-data_2['team1_log5']\n",
    "data_2['game_id'] = (data_2['game_id'].str.split('-', expand=True)[0] \n",
    "                           + '-' + data_2['game_id'].str.split('-', expand=True)[2] \n",
    "                           + '-' + data_2['game_id'].str.split('-', expand=True)[1]\n",
    "                           ) \n",
    "data_2['seed_diff'] = data_2['seed_diff']*-1\n",
    "data_2.columns = features"
   ]
  },
  {
   "cell_type": "code",
   "execution_count": 133,
   "metadata": {},
   "outputs": [],
   "source": [
    "data_train = pd.concat([data_2, data_1]).reset_index(drop=True)"
   ]
  },
  {
   "cell_type": "code",
   "execution_count": 134,
   "metadata": {},
   "outputs": [],
   "source": [
    "# Split the data into training and testing sets\n",
    "X_train, X_test, y_train, y_test = train_test_split(data_train, data_train['team1_win'], test_size=0.2, random_state=42)"
   ]
  },
  {
   "cell_type": "code",
   "execution_count": 135,
   "metadata": {},
   "outputs": [],
   "source": [
    "#Step 2: Train the Logistic Regression Model"
   ]
  },
  {
   "cell_type": "code",
   "execution_count": 136,
   "metadata": {},
   "outputs": [
    {
     "name": "stdout",
     "output_type": "stream",
     "text": [
      "Optimization terminated successfully.\n",
      "         Current function value: 0.692252\n",
      "         Iterations 3\n",
      "Log Loss: 0.6882848047579899\n"
     ]
    }
   ],
   "source": [
    "# Initialize and train the logistic regression model\n",
    "model = LogisticRegression(max_iter=1000)\n",
    "model.fit(X=X_train[['seed_diff']], y=y_train)\n",
    "\n",
    "train_df = pd.DataFrame({'team1_win': y_train, 'seed_diff': X_train['seed_diff']})\n",
    "\n",
    "modelTrain = smf.logit(\"team1_win ~ seed_diff\", data=train_df).fit()\n",
    "\n",
    "# Predict probabilities on the test set\n",
    "y_pred_proba = model.predict_proba(X_test[['seed_diff']])[:, 1]\n",
    "# Calculate log loss\n",
    "log_loss_value = log_loss(y_test, y_pred_proba, labels=[0,1])\n",
    "print(f'Log Loss: {log_loss_value}')"
   ]
  },
  {
   "cell_type": "code",
   "execution_count": 137,
   "metadata": {},
   "outputs": [],
   "source": [
    "all_data = pd.read_csv('NCAA_Tourney_2002_2024.csv').query(\"season==2019\").reset_index(drop=True)"
   ]
  },
  {
   "cell_type": "code",
   "execution_count": 138,
   "metadata": {},
   "outputs": [],
   "source": [
    "all_data['seed_diff'] = all_data['team1_seed'] - all_data['team2_seed']"
   ]
  },
  {
   "cell_type": "code",
   "execution_count": 149,
   "metadata": {},
   "outputs": [],
   "source": [
    "all_data['prob'] = modelTrain.predict(all_data[['seed_diff']])\n",
    "all_data['id'] = all_data['game_id'].str.replace('-','',regex=True)\n",
    "all_data = all_data.sort_values(by='id')"
   ]
  },
  {
   "cell_type": "code",
   "execution_count": 150,
   "metadata": {},
   "outputs": [
    {
     "data": {
      "text/html": [
       "<div>\n",
       "<style scoped>\n",
       "    .dataframe tbody tr th:only-of-type {\n",
       "        vertical-align: middle;\n",
       "    }\n",
       "\n",
       "    .dataframe tbody tr th {\n",
       "        vertical-align: top;\n",
       "    }\n",
       "\n",
       "    .dataframe thead th {\n",
       "        text-align: right;\n",
       "    }\n",
       "</style>\n",
       "<table border=\"1\" class=\"dataframe\">\n",
       "  <thead>\n",
       "    <tr style=\"text-align: right;\">\n",
       "      <th></th>\n",
       "      <th>game_id</th>\n",
       "      <th>prob</th>\n",
       "    </tr>\n",
       "  </thead>\n",
       "  <tbody>\n",
       "    <tr>\n",
       "      <th>3</th>\n",
       "      <td>2019-1113-1385</td>\n",
       "      <td>0.512257</td>\n",
       "    </tr>\n",
       "    <tr>\n",
       "      <th>44</th>\n",
       "      <td>2019-1120-1242</td>\n",
       "      <td>0.515437</td>\n",
       "    </tr>\n",
       "    <tr>\n",
       "      <th>63</th>\n",
       "      <td>2019-1120-1246</td>\n",
       "      <td>0.521794</td>\n",
       "    </tr>\n",
       "    <tr>\n",
       "      <th>6</th>\n",
       "      <td>2019-1120-1308</td>\n",
       "      <td>0.489982</td>\n",
       "    </tr>\n",
       "    <tr>\n",
       "      <th>58</th>\n",
       "      <td>2019-1120-1314</td>\n",
       "      <td>0.524970</td>\n",
       "    </tr>\n",
       "    <tr>\n",
       "      <th>...</th>\n",
       "      <td>...</td>\n",
       "      <td>...</td>\n",
       "    </tr>\n",
       "    <tr>\n",
       "      <th>66</th>\n",
       "      <td>2019-1438-1403</td>\n",
       "      <td>0.505894</td>\n",
       "    </tr>\n",
       "    <tr>\n",
       "      <th>42</th>\n",
       "      <td>2019-1439-1251</td>\n",
       "      <td>0.486801</td>\n",
       "    </tr>\n",
       "    <tr>\n",
       "      <th>31</th>\n",
       "      <td>2019-1439-1387</td>\n",
       "      <td>0.483621</td>\n",
       "    </tr>\n",
       "    <tr>\n",
       "      <th>23</th>\n",
       "      <td>2019-1449-1429</td>\n",
       "      <td>0.515437</td>\n",
       "    </tr>\n",
       "    <tr>\n",
       "      <th>9</th>\n",
       "      <td>2019-1459-1371</td>\n",
       "      <td>0.502711</td>\n",
       "    </tr>\n",
       "  </tbody>\n",
       "</table>\n",
       "<p>67 rows × 2 columns</p>\n",
       "</div>"
      ],
      "text/plain": [
       "           game_id      prob\n",
       "3   2019-1113-1385  0.512257\n",
       "44  2019-1120-1242  0.515437\n",
       "63  2019-1120-1246  0.521794\n",
       "6   2019-1120-1308  0.489982\n",
       "58  2019-1120-1314  0.524970\n",
       "..             ...       ...\n",
       "66  2019-1438-1403  0.505894\n",
       "42  2019-1439-1251  0.486801\n",
       "31  2019-1439-1387  0.483621\n",
       "23  2019-1449-1429  0.515437\n",
       "9   2019-1459-1371  0.502711\n",
       "\n",
       "[67 rows x 2 columns]"
      ]
     },
     "execution_count": 150,
     "metadata": {},
     "output_type": "execute_result"
    }
   ],
   "source": [
    "all_data[['game_id','prob']]"
   ]
  },
  {
   "cell_type": "code",
   "execution_count": 141,
   "metadata": {},
   "outputs": [],
   "source": [
    "all_data[['game_id','prob']].to_csv(\"Data Titans.csv\", index=False)"
   ]
  },
  {
   "cell_type": "code",
   "execution_count": null,
   "metadata": {},
   "outputs": [],
   "source": []
  }
 ],
 "metadata": {
  "kernelspec": {
   "display_name": "base",
   "language": "python",
   "name": "python3"
  },
  "language_info": {
   "codemirror_mode": {
    "name": "ipython",
    "version": 3
   },
   "file_extension": ".py",
   "mimetype": "text/x-python",
   "name": "python",
   "nbconvert_exporter": "python",
   "pygments_lexer": "ipython3",
   "version": "3.12.3"
  }
 },
 "nbformat": 4,
 "nbformat_minor": 2
}
