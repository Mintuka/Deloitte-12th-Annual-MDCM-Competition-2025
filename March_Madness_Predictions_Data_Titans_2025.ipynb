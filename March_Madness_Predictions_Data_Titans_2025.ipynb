{
 "cells": [
  {
   "cell_type": "code",
   "execution_count": 49,
   "metadata": {},
   "outputs": [],
   "source": [
    "#Step 1: Load and Preprocess the Data"
   ]
  },
  {
   "cell_type": "code",
   "execution_count": 50,
   "metadata": {},
   "outputs": [],
   "source": [
    "import pandas as pd\n",
    "from sklearn.model_selection import train_test_split\n",
    "from sklearn.linear_model import LogisticRegression\n",
    "from sklearn.svm import SVC\n",
    "from sklearn.metrics import log_loss\n",
    "import statsmodels.formula.api as smf\n",
    "# Load the dataset\n",
    "data = pd.read_csv('NCAA_Tourney_2002_2024.csv')\n",
    "\n",
    "# Exclude 2019 data\n",
    "data = data[data['season'] != 2019]\n",
    "\n",
    "data['team1_win'] = (data['team1_score'] > data['team2_score']).astype(int)\n",
    "data['seed_diff'] = data['team1_seed'] - data['team2_seed']\n",
    "data['exp_win1'] = (data['team1_adjoe']**11.5)/ ((data['team1_adjde']**11.5)+(data['team1_adjoe']**11.5))\n",
    "data['exp_win2'] = (data['team2_adjoe']**11.5)/ ((data['team2_adjde']**11.5)+(data['team2_adjoe']**11.5))\n"
   ]
  },
  {
   "cell_type": "code",
   "execution_count": 51,
   "metadata": {},
   "outputs": [],
   "source": [
    "# Converts expected win percentage into log odds\n",
    "\n",
    "data['team1_log5'] = (data['exp_win1'] - (data['exp_win1']*data['exp_win2']))/ (data['exp_win1']+data['exp_win2']-(2*data['exp_win1']*data['exp_win2']))\n",
    "data.dropna(subset=['team1_log5'], inplace=True)"
   ]
  },
  {
   "cell_type": "code",
   "execution_count": 52,
   "metadata": {},
   "outputs": [],
   "source": [
    "\n",
    "# Define features and target\n",
    "features = ['game_id','season','team1_win','exp_win1','exp_win2','team2_score', 'team1_score','team1_log5','team1_id','team2_id','seed_diff']\n",
    "\n",
    "data_1 = data.sample(frac=.5, random_state=15)[features]\n",
    "data_2 = data[~data.index.isin(data_1.index)][features].reset_index(drop=True)\n",
    "data_1 = data_1.reset_index(drop=True)"
   ]
  },
  {
   "cell_type": "code",
   "execution_count": 53,
   "metadata": {},
   "outputs": [],
   "source": [
    "data_2['team1_win'] = 0\n",
    "# data_2['diff_dist'] = data_2['diff_dist']*-1\n",
    "data_2['team1_log5'] = 1-data_2['team1_log5']\n",
    "data_2['game_id'] = (data_2['game_id'].str.split('-', expand=True)[0] \n",
    "                           + '-' + data_2['game_id'].str.split('-', expand=True)[2] \n",
    "                           + '-' + data_2['game_id'].str.split('-', expand=True)[1]\n",
    "                           ) \n",
    "data_2['seed_diff'] = data_2['seed_diff']*-1\n",
    "data_2.columns = features"
   ]
  },
  {
   "cell_type": "code",
   "execution_count": 54,
   "metadata": {},
   "outputs": [],
   "source": [
    "data_train = pd.concat([data_2, data_1]).reset_index(drop=True)"
   ]
  },
  {
   "cell_type": "code",
   "execution_count": 55,
   "metadata": {},
   "outputs": [],
   "source": [
    "# Split the data into training and testing sets\n",
    "X_train, X_test, y_train, y_test = train_test_split(data_train, data_train['team1_win'], test_size=0.2, random_state=42)"
   ]
  },
  {
   "cell_type": "code",
   "execution_count": 56,
   "metadata": {},
   "outputs": [],
   "source": [
    "#Step 2: Train the Logistic Regression Model"
   ]
  },
  {
   "cell_type": "code",
   "execution_count": 57,
   "metadata": {},
   "outputs": [
    {
     "name": "stdout",
     "output_type": "stream",
     "text": [
      "Optimization terminated successfully.\n",
      "         Current function value: 0.569838\n",
      "         Iterations 5\n",
      "Log Loss: 0.5699102713091542\n",
      "Log Loss 2: 0.5893439398813555\n"
     ]
    }
   ],
   "source": [
    "# Initialize and train the logistic regression model\n",
    "model = LogisticRegression(max_iter=1000)\n",
    "model.fit(X=X_train[['seed_diff']], y=y_train)\n",
    "model2 = SVC(kernel='rbf', C=1.0, gamma='scale', probability=True)\n",
    "model2.fit(X=X_train[['seed_diff']], y=y_train)\n",
    "\n",
    "train_df = pd.DataFrame({'team1_win': y_train, 'seed_diff': X_train['seed_diff']})\n",
    "\n",
    "modelTrain = smf.logit(\"team1_win ~ seed_diff\", data=train_df).fit()\n",
    "\n",
    "# Predict probabilities on the test set\n",
    "y_pred_proba = model.predict_proba(X_test[['seed_diff']])[:, 1]\n",
    "y_pred_proba2 = model2.predict_proba(X_test[['seed_diff']])[:, 1]\n",
    "# Calculate log loss\n",
    "log_loss_value = log_loss(y_test, y_pred_proba, labels=[0,1])\n",
    "log_loss_value2 = log_loss(y_test, y_pred_proba2, labels=[0,1])\n",
    "print(f'Log Loss: {log_loss_value}')\n",
    "print(f'Log Loss 2: {log_loss_value2}')"
   ]
  },
  {
   "cell_type": "code",
   "execution_count": 58,
   "metadata": {},
   "outputs": [],
   "source": [
    "all_data = pd.read_csv('NCAA_Tourney_2025.csv').reset_index(drop=True)"
   ]
  },
  {
   "cell_type": "code",
   "execution_count": 59,
   "metadata": {},
   "outputs": [],
   "source": [
    "# all_data = pd.read_csv('NCAA_Tourney_2002_2024.csv').query(\"season==2019\").reset_index(drop=True)"
   ]
  },
  {
   "cell_type": "code",
   "execution_count": 60,
   "metadata": {},
   "outputs": [],
   "source": [
    "all_data['seed_diff'] = all_data['team1_seed'] - all_data['team2_seed']"
   ]
  },
  {
   "cell_type": "code",
   "execution_count": 61,
   "metadata": {},
   "outputs": [],
   "source": [
    "all_data['prob'] = modelTrain.predict(all_data[['seed_diff']])\n",
    "all_data['id'] = all_data['game_id'].str.replace('-','',regex=True)\n",
    "all_data = all_data.sort_values(by='id')"
   ]
  },
  {
   "cell_type": "code",
   "execution_count": null,
   "metadata": {},
   "outputs": [],
   "source": []
  },
  {
   "cell_type": "code",
   "execution_count": 62,
   "metadata": {},
   "outputs": [
    {
     "data": {
      "text/html": [
       "<div>\n",
       "<style scoped>\n",
       "    .dataframe tbody tr th:only-of-type {\n",
       "        vertical-align: middle;\n",
       "    }\n",
       "\n",
       "    .dataframe tbody tr th {\n",
       "        vertical-align: top;\n",
       "    }\n",
       "\n",
       "    .dataframe thead th {\n",
       "        text-align: right;\n",
       "    }\n",
       "</style>\n",
       "<table border=\"1\" class=\"dataframe\">\n",
       "  <thead>\n",
       "    <tr style=\"text-align: right;\">\n",
       "      <th></th>\n",
       "      <th>game_id</th>\n",
       "      <th>prob</th>\n",
       "    </tr>\n",
       "  </thead>\n",
       "  <tbody>\n",
       "    <tr>\n",
       "      <th>775</th>\n",
       "      <td>2025-1103-1106</td>\n",
       "      <td>0.623507</td>\n",
       "    </tr>\n",
       "    <tr>\n",
       "      <th>740</th>\n",
       "      <td>2025-1103-1110</td>\n",
       "      <td>0.623507</td>\n",
       "    </tr>\n",
       "    <tr>\n",
       "      <th>786</th>\n",
       "      <td>2025-1103-1116</td>\n",
       "      <td>0.396829</td>\n",
       "    </tr>\n",
       "    <tr>\n",
       "      <th>759</th>\n",
       "      <td>2025-1103-1120</td>\n",
       "      <td>0.141434</td>\n",
       "    </tr>\n",
       "    <tr>\n",
       "      <th>774</th>\n",
       "      <td>2025-1103-1136</td>\n",
       "      <td>0.586763</td>\n",
       "    </tr>\n",
       "    <tr>\n",
       "      <th>...</th>\n",
       "      <td>...</td>\n",
       "      <td>...</td>\n",
       "    </tr>\n",
       "    <tr>\n",
       "      <th>2051</th>\n",
       "      <td>2025-1471-1384</td>\n",
       "      <td>0.658882</td>\n",
       "    </tr>\n",
       "    <tr>\n",
       "      <th>2053</th>\n",
       "      <td>2025-1471-1385</td>\n",
       "      <td>0.183066</td>\n",
       "    </tr>\n",
       "    <tr>\n",
       "      <th>2054</th>\n",
       "      <td>2025-1471-1403</td>\n",
       "      <td>0.207206</td>\n",
       "    </tr>\n",
       "    <tr>\n",
       "      <th>2065</th>\n",
       "      <td>2025-1471-1423</td>\n",
       "      <td>0.586763</td>\n",
       "    </tr>\n",
       "    <tr>\n",
       "      <th>2047</th>\n",
       "      <td>2025-1471-1463</td>\n",
       "      <td>0.549027</td>\n",
       "    </tr>\n",
       "  </tbody>\n",
       "</table>\n",
       "<p>2278 rows × 2 columns</p>\n",
       "</div>"
      ],
      "text/plain": [
       "             game_id      prob\n",
       "775   2025-1103-1106  0.623507\n",
       "740   2025-1103-1110  0.623507\n",
       "786   2025-1103-1116  0.396829\n",
       "759   2025-1103-1120  0.141434\n",
       "774   2025-1103-1136  0.586763\n",
       "...              ...       ...\n",
       "2051  2025-1471-1384  0.658882\n",
       "2053  2025-1471-1385  0.183066\n",
       "2054  2025-1471-1403  0.207206\n",
       "2065  2025-1471-1423  0.586763\n",
       "2047  2025-1471-1463  0.549027\n",
       "\n",
       "[2278 rows x 2 columns]"
      ]
     },
     "execution_count": 62,
     "metadata": {},
     "output_type": "execute_result"
    }
   ],
   "source": [
    "all_data[['game_id','prob']]"
   ]
  },
  {
   "cell_type": "code",
   "execution_count": 63,
   "metadata": {},
   "outputs": [],
   "source": [
    "all_data[['game_id','prob']].to_csv(\"Data Titans.csv\", index=False)"
   ]
  },
  {
   "cell_type": "code",
   "execution_count": null,
   "metadata": {},
   "outputs": [],
   "source": []
  }
 ],
 "metadata": {
  "kernelspec": {
   "display_name": "base",
   "language": "python",
   "name": "python3"
  },
  "language_info": {
   "codemirror_mode": {
    "name": "ipython",
    "version": 3
   },
   "file_extension": ".py",
   "mimetype": "text/x-python",
   "name": "python",
   "nbconvert_exporter": "python",
   "pygments_lexer": "ipython3",
   "version": "3.12.7"
  }
 },
 "nbformat": 4,
 "nbformat_minor": 2
}
